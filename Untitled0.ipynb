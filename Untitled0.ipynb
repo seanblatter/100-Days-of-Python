{
  "nbformat": 4,
  "nbformat_minor": 0,
  "metadata": {
    "colab": {
      "provenance": [],
      "authorship_tag": "ABX9TyNy8mJXDeinEK96XcMAl6MJ",
      "include_colab_link": true
    },
    "kernelspec": {
      "name": "python3",
      "display_name": "Python 3"
    },
    "language_info": {
      "name": "python"
    }
  },
  "cells": [
    {
      "cell_type": "markdown",
      "metadata": {
        "id": "view-in-github",
        "colab_type": "text"
      },
      "source": [
        "<a href=\"https://colab.research.google.com/github/seanblatter/100-Days-of-Python/blob/master/Untitled0.ipynb\" target=\"_parent\"><img src=\"https://colab.research.google.com/assets/colab-badge.svg\" alt=\"Open In Colab\"/></a>"
      ]
    },
    {
      "cell_type": "code",
      "execution_count": null,
      "metadata": {
        "colab": {
          "base_uri": "https://localhost:8080/"
        },
        "id": "-A-Q_Cqx93O-",
        "outputId": "413fb736-95da-420b-dc4f-6873d8f9e27c"
      },
      "outputs": [
        {
          "output_type": "stream",
          "name": "stdout",
          "text": [
            "Please enter your age: 75\n",
            "You can get Medicaid and Social Security\n",
            "You get Social Security\n",
            "You can drink!\n",
            "You can drive!\n",
            "High School!\n"
          ]
        }
      ],
      "source": [
        "number=int(input('Please enter your age: '))\n",
        "\n",
        "if number > 65:\n",
        "  print(\"You can get Medicaid and Social Security\")\n",
        "if number > 62:\n",
        "  print(\"You get Social Security\")\n",
        "if number > 21:\n",
        "  print(\"You can drink!\")\n",
        "if number > 16:\n",
        "  print(\"You can drive!\")\n",
        "if number > 14:\n",
        "  print(\"High School!\")\n",
        "else: print('Enjoy being a kid :)')"
      ]
    },
    {
      "cell_type": "markdown",
      "source": [],
      "metadata": {
        "id": "67UIMxM4EZU6"
      }
    },
    {
      "cell_type": "code",
      "source": [
        "#without a function\n",
        "\n",
        "first_temp_F = ((9.0/5.0)*21) + 32.0\n",
        "print('21C ==', first_temp_F, 'F')"
      ],
      "metadata": {
        "colab": {
          "base_uri": "https://localhost:8080/"
        },
        "id": "jX63YjAcEJgL",
        "outputId": "50e4eab2-8b47-46b3-8830-682fd91db272"
      },
      "execution_count": null,
      "outputs": [
        {
          "output_type": "stream",
          "name": "stdout",
          "text": [
            "21C == 69.80000000000001 F\n"
          ]
        }
      ]
    },
    {
      "cell_type": "code",
      "source": [
        "#With a Functiono\n",
        "def print_as_fahrenheit(c):\n",
        "  f = ((9.0/5.0)*c) + 32.0\n",
        "  print(c,'C ==', f, 'F')\n",
        "print_as_fahrenheit(21)"
      ],
      "metadata": {
        "colab": {
          "base_uri": "https://localhost:8080/"
        },
        "id": "xpVDcH1VEdbN",
        "outputId": "4effdc48-5404-44f6-df26-f25980e69de5"
      },
      "execution_count": null,
      "outputs": [
        {
          "output_type": "stream",
          "name": "stdout",
          "text": [
            "21 C == 69.80000000000001 F\n"
          ]
        }
      ]
    },
    {
      "cell_type": "code",
      "source": [
        "def hello_name(name):\n",
        "  print('Hello ' + name + '!!!')\n",
        "  return name\n",
        "\n",
        "#hello_name('Harry')\n",
        "\n",
        "#a_name = 'Dr Korpusik'\n",
        "#hello_name(a_name)\n",
        "\n",
        "returned_name = hello_name('John')\n",
        "print('my name is ', returned_name)"
      ],
      "metadata": {
        "colab": {
          "base_uri": "https://localhost:8080/"
        },
        "id": "PHFtAVEGK1PT",
        "outputId": "294029aa-ac08-48a0-b016-491cf834bece"
      },
      "execution_count": null,
      "outputs": [
        {
          "output_type": "stream",
          "name": "stdout",
          "text": [
            "Hello John!!!\n",
            "my name is  John\n"
          ]
        }
      ]
    },
    {
      "cell_type": "code",
      "source": [
        "def print_as_fahrenheit(c):\n",
        "  f = ((9.0/5.0)*c) + 32.0\n",
        "  return f\n",
        "\n",
        "print('21C ==', print_as_fahrenheit(21), 'F')"
      ],
      "metadata": {
        "colab": {
          "base_uri": "https://localhost:8080/"
        },
        "id": "ZHkNDwUsOvq3",
        "outputId": "a70bcf15-3f8d-4e12-86d0-323cb862176c"
      },
      "execution_count": null,
      "outputs": [
        {
          "output_type": "stream",
          "name": "stdout",
          "text": [
            "21C == 69.80000000000001 F\n"
          ]
        }
      ]
    }
  ]
}