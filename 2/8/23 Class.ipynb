{
  "nbformat": 4,
  "nbformat_minor": 0,
  "metadata": {
    "colab": {
      "provenance": [],
      "authorship_tag": "ABX9TyMXVCnoi4A3kzYZ5RCDboQN",
      "include_colab_link": true
    },
    "kernelspec": {
      "name": "python3",
      "display_name": "Python 3"
    },
    "language_info": {
      "name": "python"
    }
  },
  "cells": [
    {
      "cell_type": "markdown",
      "metadata": {
        "id": "view-in-github",
        "colab_type": "text"
      },
      "source": [
        "<a href=\"https://colab.research.google.com/github/seanblatter/100-Days-of-Python/blob/master/2/8/23%20Class.ipynb\" target=\"_parent\"><img src=\"https://colab.research.google.com/assets/colab-badge.svg\" alt=\"Open In Colab\"/></a>"
      ]
    },
    {
      "cell_type": "markdown",
      "source": [
        "From Last time...\n",
        "strings are immutable\n",
        "\n"
      ],
      "metadata": {
        "id": "bvP8Bu1QBamh"
      }
    },
    {
      "cell_type": "code",
      "execution_count": 4,
      "metadata": {
        "colab": {
          "base_uri": "https://localhost:8080/"
        },
        "id": "vXZuFQtWBZCi",
        "outputId": "9dc71e6d-d35d-4b22-ba4b-3f3edc2b088c"
      },
      "outputs": [
        {
          "output_type": "stream",
          "name": "stdout",
          "text": [
            "['milk', 'apples', 'eggs'] [100, 94, 96]\n"
          ]
        }
      ],
      "source": [
        "shopping_list = ['milk', 'apples', 'eggs']\n",
        "grades = [100, 94, 96]\n",
        "mixed = 100.0, 'milk', [94,96]\n",
        "\n",
        "print(shopping_list, grades)"
      ]
    },
    {
      "cell_type": "markdown",
      "source": [
        "Getting items from a list\n",
        "Indexing: GEtting the element from a specific location."
      ],
      "metadata": {
        "id": "cx9TYJtiDcJ7"
      }
    },
    {
      "cell_type": "markdown",
      "source": [
        "Changing a list\n",
        "You can replace or ooverwrite items in a list"
      ],
      "metadata": {
        "id": "ZJmTogZiJYBf"
      }
    },
    {
      "cell_type": "code",
      "source": [
        "best_ts_songs = ['Love story', 'Mine', 'I knew you were toublre']\n",
        "\n",
        "best_ts_songs[2] = 'Delicate'\n",
        "\n",
        "print(best_ts_songs)"
      ],
      "metadata": {
        "colab": {
          "base_uri": "https://localhost:8080/"
        },
        "id": "otkmGPS9JaQJ",
        "outputId": "cca46e76-a2a2-4859-f539-31ec7a786af0"
      },
      "execution_count": 6,
      "outputs": [
        {
          "output_type": "stream",
          "name": "stdout",
          "text": [
            "['Love story', 'Mine', 'Delicate']\n"
          ]
        }
      ]
    },
    {
      "cell_type": "markdown",
      "source": [
        "append:add an element to the end of a list."
      ],
      "metadata": {
        "id": "2B8Mbb-aLvMA"
      }
    },
    {
      "cell_type": "code",
      "source": [],
      "metadata": {
        "id": "dzu1fO-PLuaP"
      },
      "execution_count": null,
      "outputs": []
    },
    {
      "cell_type": "markdown",
      "source": [
        "Extend- adds more to the list"
      ],
      "metadata": {
        "id": "txeGqIFUL-MW"
      }
    },
    {
      "cell_type": "code",
      "source": [
        "best_ts_songs = ['Love story', 'Mine', 'I knew you were toublre']\n",
        "\n",
        "best_ts_songs.extend(['Delicate', 'Gorgeous'])\n",
        "\n",
        "print(best_ts_songs)"
      ],
      "metadata": {
        "colab": {
          "base_uri": "https://localhost:8080/"
        },
        "id": "9jT29ybVLyhR",
        "outputId": "c0d857be-0e67-4f76-f47d-407ab1e7eb7d"
      },
      "execution_count": 8,
      "outputs": [
        {
          "output_type": "stream",
          "name": "stdout",
          "text": [
            "['Love story', 'Mine', 'I knew you were toublre', 'Delicate', 'Gorgeous']\n"
          ]
        }
      ]
    },
    {
      "cell_type": "code",
      "source": [
        "def add_songs(songs):\n",
        "  new_song = input(\"What is your favorie song: \")\n",
        "  songs.append(new_song)\n",
        "  return songs\n",
        "\n",
        "lst =[]\n",
        "for _ in range(3):\n",
        "  lst = add_songs(lst)\n",
        "print('Your favorite songs are', lst)\n",
        "\n"
      ],
      "metadata": {
        "colab": {
          "base_uri": "https://localhost:8080/"
        },
        "id": "gTukWOmNO666",
        "outputId": "69f5d4f0-e7f6-4f8f-95be-a0bded0b7422"
      },
      "execution_count": 28,
      "outputs": [
        {
          "output_type": "stream",
          "name": "stdout",
          "text": [
            "What is your favorie song: Bertha\n",
            "What is your favorie song: ABC's\n",
            "What is your favorie song: Sattelite\n",
            "Your favorite songs are ['Bertha', \"ABC's\", 'Sattelite']\n"
          ]
        }
      ]
    }
  ]
}