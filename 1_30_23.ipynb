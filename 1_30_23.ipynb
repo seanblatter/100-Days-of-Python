{
  "nbformat": 4,
  "nbformat_minor": 0,
  "metadata": {
    "colab": {
      "provenance": [],
      "authorship_tag": "ABX9TyMIO0AKPTxRdu4CcOomakGn",
      "include_colab_link": true
    },
    "kernelspec": {
      "name": "python3",
      "display_name": "Python 3"
    },
    "language_info": {
      "name": "python"
    }
  },
  "cells": [
    {
      "cell_type": "markdown",
      "metadata": {
        "id": "view-in-github",
        "colab_type": "text"
      },
      "source": [
        "<a href=\"https://colab.research.google.com/github/seanblatter/100-Days-of-Python/blob/master/1_30_23.ipynb\" target=\"_parent\"><img src=\"https://colab.research.google.com/assets/colab-badge.svg\" alt=\"Open In Colab\"/></a>"
      ]
    },
    {
      "cell_type": "code",
      "execution_count": 5,
      "metadata": {
        "colab": {
          "base_uri": "https://localhost:8080/"
        },
        "id": "ISBph60Lrn07",
        "outputId": "a2bb6221-402d-4917-983d-83297449f638"
      },
      "outputs": [
        {
          "output_type": "stream",
          "name": "stdout",
          "text": [
            "3  + 1 =  4\n"
          ]
        }
      ],
      "source": [
        "def add_one(a):\n",
        "  b = a + 1\n",
        "  return b\n",
        "\n",
        "def print_plus_one(a):\n",
        "  b = add_one(a)\n",
        "  print(a, \" + 1 = \", b)\n",
        "num = 3\n",
        "\n",
        "print_plus_one(num)"
      ]
    },
    {
      "cell_type": "markdown",
      "source": [
        "Scope of functions\n",
        "\n",
        "**global** variables:\n",
        "defined **outside** any function\n",
        "accessible anywhere\n",
        "\n",
        "\n",
        "**local** variables:\n",
        "defined **inside** a function\n",
        "accessible only inside that function"
      ],
      "metadata": {
        "id": "vvlDoOr8wZUN"
      }
    },
    {
      "cell_type": "code",
      "source": [
        "outside_function = 2\n",
        "\n",
        "def add_one(a):\n",
        "  inside_function = a + 1\n",
        "  print(outside_function)\n",
        "  print(inside_function)\n",
        "  \n",
        "  \n",
        "\n",
        "add_one(3)"
      ],
      "metadata": {
        "colab": {
          "base_uri": "https://localhost:8080/"
        },
        "id": "pbV9x4WbwYmE",
        "outputId": "b57fe103-7ac5-490e-8291-a5534cdc1abe"
      },
      "execution_count": 8,
      "outputs": [
        {
          "output_type": "stream",
          "name": "stdout",
          "text": [
            "2\n",
            "4\n"
          ]
        }
      ]
    },
    {
      "cell_type": "markdown",
      "source": [
        "**Changing global variables**\n",
        "IF you want to change(set) a global variable in a function, use the **global** keyword\n"
      ],
      "metadata": {
        "id": "dj6cMxJRyZEF"
      }
    },
    {
      "cell_type": "code",
      "source": [
        "outside_function = 2\n",
        "\n",
        "def my_func(a):\n",
        "  global outside_function\n",
        "  outside_function = a\n",
        "\n",
        "my_func(3)\n",
        "print(outside_function)"
      ],
      "metadata": {
        "colab": {
          "base_uri": "https://localhost:8080/"
        },
        "id": "T84h3J7Cye_o",
        "outputId": "54723626-957a-4fd1-b80f-b553024f78d1"
      },
      "execution_count": 10,
      "outputs": [
        {
          "output_type": "stream",
          "name": "stdout",
          "text": [
            "3\n"
          ]
        }
      ]
    },
    {
      "cell_type": "markdown",
      "source": [
        "Which variables are global and which are local\n",
        "\n",
        "Local aree inside def functions and global are outside def func"
      ],
      "metadata": {
        "id": "-0l9rzECzRtr"
      }
    },
    {
      "cell_type": "code",
      "source": [
        "**Modules**\n",
        "\n"
      ],
      "metadata": {
        "id": "mTK6TBTu3ae9"
      },
      "execution_count": null,
      "outputs": []
    },
    {
      "cell_type": "markdown",
      "source": [
        "**Modules**\n",
        "\n",
        "A Module is a Python file wiht many related functions\n",
        "(You can use other people's work instead of doing it again!)\n"
      ],
      "metadata": {
        "id": "k3sh8T3c3dSg"
      }
    },
    {
      "cell_type": "code",
      "source": [
        "import math\n",
        "\n",
        "\n",
        "print(math.pi)\n",
        "print(math.sin(math.pi/2))"
      ],
      "metadata": {
        "colab": {
          "base_uri": "https://localhost:8080/"
        },
        "id": "V6lp-OBO3j8h",
        "outputId": "3ddd9da6-dbe8-411d-c61a-ff7833aab843"
      },
      "execution_count": 11,
      "outputs": [
        {
          "output_type": "stream",
          "name": "stdout",
          "text": [
            "3.141592653589793\n",
            "1.0\n"
          ]
        }
      ]
    },
    {
      "cell_type": "markdown",
      "source": [
        "import all funcftions from a module:\n",
        "from MODULE_NAME impprt*"
      ],
      "metadata": {
        "id": "FqNzUgAN4dLb"
      }
    },
    {
      "cell_type": "code",
      "source": [
        "import MODULENAME\n",
        "\n",
        "def func1():\n",
        "  BODY1\n",
        "\n",
        "...\n",
        "\n",
        "def funcn(a):\n",
        "  BODYN\n"
      ],
      "metadata": {
        "id": "G2BgfH9f4hTL"
      },
      "execution_count": 13,
      "outputs": []
    },
    {
      "cell_type": "markdown",
      "source": [
        "str (string)\n",
        "int(integer)\n",
        "float (floating point number)\n",
        "bool (boolean)\n",
        "  -can be TRUE or FALSE only\n",
        "\n",
        "\n",
        "\n",
        "\n",
        "\n",
        "\n",
        "print(type(x) = ,ckass 'str'>"
      ],
      "metadata": {
        "id": "uXc3yhkD41wN"
      }
    },
    {
      "cell_type": "code",
      "source": [
        "x = 0\n",
        "y = bool(x)\n",
        "\n",
        "print(y)\n",
        "print(type(y))"
      ],
      "metadata": {
        "colab": {
          "base_uri": "https://localhost:8080/"
        },
        "id": "6O7gYYSv7YJM",
        "outputId": "22dd3fb0-71e1-41a0-9d8b-6fca7560afd6"
      },
      "execution_count": 15,
      "outputs": [
        {
          "output_type": "stream",
          "name": "stdout",
          "text": [
            "False\n",
            "<class 'bool'>\n"
          ]
        }
      ]
    },
    {
      "cell_type": "markdown",
      "source": [
        "**Boolean operators**\n",
        "Applied to booleans\n",
        "Produces Booleans\n",
        "\n",
        "x and y True if both x and y are TRUE\n",
        "\n",
        "x or y True if either x or y are TRUE\n",
        "\n"
      ],
      "metadata": {
        "id": "3XZaPTG07lVK"
      }
    },
    {
      "cell_type": "code",
      "source": [
        "x = True\n",
        "\n",
        "y = True\n",
        "\n",
        "print(x and y)\n",
        "\n",
        "print(x or y)\n",
        "\n",
        "print(not x)"
      ],
      "metadata": {
        "colab": {
          "base_uri": "https://localhost:8080/"
        },
        "id": "5FLwfZwo74et",
        "outputId": "f488c90a-8e17-4ae3-a678-edb566e1125d"
      },
      "execution_count": 16,
      "outputs": [
        {
          "output_type": "stream",
          "name": "stdout",
          "text": [
            "True\n",
            "True\n",
            "False\n"
          ]
        }
      ]
    },
    {
      "cell_type": "markdown",
      "source": [
        "When does the alarm go off?\n",
        "\n",
        "x = it is daytime\n",
        "y = The window is open.\n",
        "alaerm_goes_off = not x and y\n",
        "\n",
        "\n",
        "X   Y   NOTX   (NOTX)ANDY\n",
        "T   F    F         F\n",
        "T   F    F            F\n",
        "F   T    T          T\n",
        "alarm_goes_off\n",
        "\n",
        "\n",
        "\n",
        "\n",
        "\n"
      ],
      "metadata": {
        "id": "sp_2s4BD8FQ6"
      }
    },
    {
      "cell_type": "markdown",
      "source": [
        "To make your code clear, use **parentheses!**\n",
        "\n",
        "x > y and y < 2 (how is pemdas working)\n",
        "\n"
      ],
      "metadata": {
        "id": "0NcbpoIB--5Q"
      }
    },
    {
      "cell_type": "markdown",
      "source": [
        "Type connversioon (casting)\n",
        "\n",
        "int <-> float\n",
        "int(5.0) <-> "
      ],
      "metadata": {
        "id": "f6aRx66CASfJ"
      }
    }
  ]
}