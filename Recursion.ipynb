{
  "nbformat": 4,
  "nbformat_minor": 0,
  "metadata": {
    "colab": {
      "provenance": [],
      "authorship_tag": "ABX9TyMP5LF5JLPfFifqg+LHDaR0",
      "include_colab_link": true
    },
    "kernelspec": {
      "name": "python3",
      "display_name": "Python 3"
    },
    "language_info": {
      "name": "python"
    }
  },
  "cells": [
    {
      "cell_type": "markdown",
      "metadata": {
        "id": "view-in-github",
        "colab_type": "text"
      },
      "source": [
        "<a href=\"https://colab.research.google.com/github/seanblatter/100-Days-of-Python/blob/master/Recursion.ipynb\" target=\"_parent\"><img src=\"https://colab.research.google.com/assets/colab-badge.svg\" alt=\"Open In Colab\"/></a>"
      ]
    },
    {
      "cell_type": "markdown",
      "source": [
        "Remember countdown?"
      ],
      "metadata": {
        "id": "K7j2qqqDRPQQ"
      }
    },
    {
      "cell_type": "code",
      "execution_count": null,
      "metadata": {
        "colab": {
          "base_uri": "https://localhost:8080/"
        },
        "id": "HrZAeCKZRMcP",
        "outputId": "a63925fd-5d9e-4ee2-cb97-28a0478bcb74"
      },
      "outputs": [
        {
          "output_type": "stream",
          "name": "stdout",
          "text": [
            "3\n",
            "2\n",
            "1\n",
            "Blast off!\n"
          ]
        }
      ],
      "source": [
        "def countdown(n):\n",
        "  for i in range(n,0,-1):\n",
        "    print(i)\n",
        "  print('Blast off!')\n",
        "countdown(3)"
      ]
    },
    {
      "cell_type": "markdown",
      "source": [
        "Recusrion"
      ],
      "metadata": {
        "id": "ScsZT81DRYOC"
      }
    },
    {
      "cell_type": "code",
      "source": [
        "def countdown(n):\n",
        "  if n == 0:\n",
        "    print('Blast off!')\n",
        "  else:\n",
        "    print(n)\n",
        "    countdown(n-1)\n",
        "countdown(3)"
      ],
      "metadata": {
        "colab": {
          "base_uri": "https://localhost:8080/"
        },
        "id": "LCkx_pUwRY02",
        "outputId": "f3e44bf2-2e70-49d2-b9fd-76aaa177c69a"
      },
      "execution_count": null,
      "outputs": [
        {
          "output_type": "stream",
          "name": "stdout",
          "text": [
            "3\n",
            "2\n",
            "1\n",
            "Blast off!\n"
          ]
        }
      ]
    },
    {
      "cell_type": "markdown",
      "source": [
        "Base Case at the end, when the function returns\n",
        "Recursive case: calls itself again, with a new input"
      ],
      "metadata": {
        "id": "gg2QJKUeUIjm"
      }
    },
    {
      "cell_type": "markdown",
      "source": [
        "turtle graphics"
      ],
      "metadata": {
        "id": "HHgHWqyNvBdV"
      }
    },
    {
      "cell_type": "code",
      "source": [
        "!pip3 install ColabTurtle\n"
      ],
      "metadata": {
        "colab": {
          "base_uri": "https://localhost:8080/"
        },
        "id": "8nVbPAmy0j8m",
        "outputId": "8cc23da3-418a-41c0-aca6-79b54bb747e0"
      },
      "execution_count": 1,
      "outputs": [
        {
          "output_type": "stream",
          "name": "stdout",
          "text": [
            "Looking in indexes: https://pypi.org/simple, https://us-python.pkg.dev/colab-wheels/public/simple/\n",
            "Collecting ColabTurtle\n",
            "  Downloading ColabTurtle-2.1.0.tar.gz (6.8 kB)\n",
            "  Preparing metadata (setup.py) ... \u001b[?25l\u001b[?25hdone\n",
            "Building wheels for collected packages: ColabTurtle\n",
            "  Building wheel for ColabTurtle (setup.py) ... \u001b[?25l\u001b[?25hdone\n",
            "  Created wheel for ColabTurtle: filename=ColabTurtle-2.1.0-py3-none-any.whl size=7656 sha256=6b54ebe315601bed8a0fccfa98e6170a32acaf5506a2b597fd7572afab8993b0\n",
            "  Stored in directory: /root/.cache/pip/wheels/a8/ab/ce/4aca5e858d2561104f45e6164390067231381836678b908064\n",
            "Successfully built ColabTurtle\n",
            "Installing collected packages: ColabTurtle\n",
            "Successfully installed ColabTurtle-2.1.0\n"
          ]
        }
      ]
    },
    {
      "cell_type": "code",
      "source": [
        "from ColabTurtle.Turtle import *"
      ],
      "metadata": {
        "id": "uEK9zt2u0ulY"
      },
      "execution_count": 2,
      "outputs": []
    },
    {
      "cell_type": "code",
      "source": [
        "initializeTurtle()\n",
        "def draw(n, x=25):\n",
        "  if n == 0:\n",
        "    return\n",
        "\n",
        "  forward(x * n)\n",
        "  left(50)\n",
        "  draw(n - 1, x)\n",
        "  right(100)\n",
        "  draw(n - 1, x)\n",
        "  left(50)\n",
        "  back(x * n)\n",
        "\n",
        "draw(3)\n",
        "#for i in range(4):\n",
        " # forward(100)\n",
        "  #left(90)\n",
        "#right(90)\n",
        "#forward(100)\n",
        "\n",
        "#for i in range(4):\n",
        " # forward(100)\n",
        "  #left(90)\n",
        "#right(180)\n",
        "#forward(100)\n",
        "#left(90)\n",
        "#forward(100)\n",
        "#left(90)\n",
        "#forward(100)\n",
        "#left(90)\n",
        "#forward(100)"
      ],
      "metadata": {
        "colab": {
          "base_uri": "https://localhost:8080/",
          "height": 522
        },
        "id": "u698MS3p07Bo",
        "outputId": "624e5079-37cc-4a1b-def3-5892378cd8a0"
      },
      "execution_count": 41,
      "outputs": [
        {
          "output_type": "display_data",
          "data": {
            "text/plain": [
              "<IPython.core.display.HTML object>"
            ],
            "text/html": [
              "\n",
              "      <svg width=\"800\" height=\"500\">\n",
              "        <rect width=\"100%\" height=\"100%\" fill=\"black\"/>\n",
              "        <line x1=\"400\" y1=\"250\" x2=\"400.0\" y2=\"175.0\" stroke-linecap=\"round\" style=\"stroke:white;stroke-width:4\"/><line x1=\"400.0\" y1=\"175.0\" x2=\"361.698\" y2=\"142.861\" stroke-linecap=\"round\" style=\"stroke:white;stroke-width:4\"/><line x1=\"361.698\" y1=\"142.861\" x2=\"337.078\" y2=\"147.202\" stroke-linecap=\"round\" style=\"stroke:white;stroke-width:4\"/><line x1=\"337.078\" y1=\"147.202\" x2=\"361.698\" y2=\"142.861\" stroke-linecap=\"round\" style=\"stroke:white;stroke-width:4\"/><line x1=\"361.698\" y1=\"142.861\" x2=\"361.698\" y2=\"117.861\" stroke-linecap=\"round\" style=\"stroke:white;stroke-width:4\"/><line x1=\"361.698\" y1=\"117.861\" x2=\"361.698\" y2=\"142.861\" stroke-linecap=\"round\" style=\"stroke:white;stroke-width:4\"/><line x1=\"361.698\" y1=\"142.861\" x2=\"400.0\" y2=\"175.0\" stroke-linecap=\"round\" style=\"stroke:white;stroke-width:4\"/><line x1=\"400.0\" y1=\"175.0\" x2=\"438.302\" y2=\"142.861\" stroke-linecap=\"round\" style=\"stroke:white;stroke-width:4\"/><line x1=\"438.302\" y1=\"142.861\" x2=\"438.302\" y2=\"117.861\" stroke-linecap=\"round\" style=\"stroke:white;stroke-width:4\"/><line x1=\"438.302\" y1=\"117.861\" x2=\"438.302\" y2=\"142.861\" stroke-linecap=\"round\" style=\"stroke:white;stroke-width:4\"/><line x1=\"438.302\" y1=\"142.861\" x2=\"462.922\" y2=\"147.202\" stroke-linecap=\"round\" style=\"stroke:white;stroke-width:4\"/><line x1=\"462.922\" y1=\"147.202\" x2=\"438.302\" y2=\"142.861\" stroke-linecap=\"round\" style=\"stroke:white;stroke-width:4\"/><line x1=\"438.302\" y1=\"142.861\" x2=\"400.0\" y2=\"175.0\" stroke-linecap=\"round\" style=\"stroke:white;stroke-width:4\"/><line x1=\"400.0\" y1=\"175.0\" x2=\"400.0\" y2=\"250.0\" stroke-linecap=\"round\" style=\"stroke:white;stroke-width:4\"/>\n",
              "        <g visibility=visible transform=\"rotate(360,400.0,250.0) translate(382.0, 232.0)\">\n",
              "<path style=\" stroke:none;fill-rule:evenodd;fill:white;fill-opacity:1;\" d=\"M 18.214844 0.632812 C 16.109375 1.800781 15.011719 4.074219 15.074219 7.132812 L 15.085938 7.652344 L 14.785156 7.496094 C 13.476562 6.824219 11.957031 6.671875 10.40625 7.066406 C 8.46875 7.550781 6.515625 9.15625 4.394531 11.992188 C 3.0625 13.777344 2.679688 14.636719 3.042969 15.027344 L 3.15625 15.152344 L 3.519531 15.152344 C 4.238281 15.152344 4.828125 14.886719 8.1875 13.039062 C 9.386719 12.378906 10.371094 11.839844 10.378906 11.839844 C 10.386719 11.839844 10.355469 11.929688 10.304688 12.035156 C 9.832031 13.09375 9.257812 14.820312 8.96875 16.078125 C 7.914062 20.652344 8.617188 24.53125 11.070312 27.660156 C 11.351562 28.015625 11.363281 27.914062 10.972656 28.382812 C 8.925781 30.84375 7.945312 33.28125 8.238281 35.1875 C 8.289062 35.527344 8.28125 35.523438 8.917969 35.523438 C 10.941406 35.523438 13.074219 34.207031 15.136719 31.6875 C 15.359375 31.417969 15.328125 31.425781 15.5625 31.574219 C 16.292969 32.042969 18.023438 32.964844 18.175781 32.964844 C 18.335938 32.964844 19.941406 32.210938 20.828125 31.71875 C 20.996094 31.625 21.136719 31.554688 21.136719 31.558594 C 21.203125 31.664062 21.898438 32.414062 22.222656 32.730469 C 23.835938 34.300781 25.5625 35.132812 27.582031 35.300781 C 27.90625 35.328125 27.9375 35.308594 28.007812 34.984375 C 28.382812 33.242188 27.625 30.925781 25.863281 28.425781 L 25.542969 27.96875 L 25.699219 27.785156 C 28.945312 23.960938 29.132812 18.699219 26.257812 11.96875 L 26.207031 11.84375 L 27.945312 12.703125 C 31.53125 14.476562 32.316406 14.800781 33.03125 14.800781 C 33.976562 14.800781 33.78125 13.9375 32.472656 12.292969 C 28.519531 7.355469 25.394531 5.925781 21.921875 7.472656 L 21.558594 7.636719 L 21.578125 7.542969 C 21.699219 6.992188 21.761719 5.742188 21.699219 5.164062 C 21.496094 3.296875 20.664062 1.964844 19.003906 0.855469 C 18.480469 0.503906 18.457031 0.5 18.214844 0.632812\"/>\n",
              "</g>\n",
              "      </svg>\n",
              "    "
            ]
          },
          "metadata": {}
        }
      ]
    },
    {
      "cell_type": "code",
      "source": [],
      "metadata": {
        "id": "ghHq5b3M1Jjo"
      },
      "execution_count": null,
      "outputs": []
    }
  ]
}